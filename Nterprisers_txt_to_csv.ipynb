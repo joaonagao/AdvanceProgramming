{
 "cells": [
  {
   "cell_type": "markdown",
   "metadata": {},
   "source": [
    "# Company Web Scraping through Google"
   ]
  },
  {
   "cell_type": "markdown",
   "metadata": {},
   "source": [
    "Import all necessary packages for web scraping"
   ]
  },
  {
   "cell_type": "code",
   "execution_count": 42,
   "metadata": {},
   "outputs": [
    {
     "name": "stderr",
     "output_type": "stream",
     "text": [
      "[nltk_data] Downloading package stopwords to\n",
      "[nltk_data]     C:\\Users\\Graduate\\AppData\\Roaming\\nltk_data...\n",
      "[nltk_data]   Package stopwords is already up-to-date!\n"
     ]
    }
   ],
   "source": [
    "import time\n",
    "import csv\n",
    "import os\n",
    "import re\n",
    "import pandas as pd\n",
    "from selenium import webdriver\n",
    "from selenium.webdriver.common.by import By\n",
    "from selenium.webdriver.common.keys import Keys\n",
    "from selenium.webdriver.support.ui import WebDriverWait\n",
    "from selenium.webdriver.support import expected_conditions as EC\n",
    "import nltk\n",
    "nltk.download('stopwords')\n",
    "from nltk.corpus import stopwords"
   ]
  },
  {
   "cell_type": "markdown",
   "metadata": {},
   "source": [
    "Convert .txt file into .csv"
   ]
  },
  {
   "cell_type": "code",
   "execution_count": 43,
   "metadata": {},
   "outputs": [
    {
     "ename": "PermissionError",
     "evalue": "[Errno 13] Permission denied: 'C:/Users/Graduate/Desktop/Grad MSBA/Advanced Python/Final Project/company_info_final.csv'",
     "output_type": "error",
     "traceback": [
      "\u001b[1;31m---------------------------------------------------------------------------\u001b[0m",
      "\u001b[1;31mPermissionError\u001b[0m                           Traceback (most recent call last)",
      "Input \u001b[1;32mIn [43]\u001b[0m, in \u001b[0;36m<cell line: 2>\u001b[1;34m()\u001b[0m\n\u001b[0;32m      1\u001b[0m \u001b[38;5;66;03m# Open input and output files\u001b[39;00m\n\u001b[0;32m      2\u001b[0m \u001b[38;5;28;01mwith\u001b[39;00m \u001b[38;5;28mopen\u001b[39m(\u001b[38;5;124m'\u001b[39m\u001b[38;5;124mC:/Users/Graduate/Desktop/Grad MSBA/Advanced Python/Final Project/company_info_final.txt\u001b[39m\u001b[38;5;124m'\u001b[39m, \u001b[38;5;124m'\u001b[39m\u001b[38;5;124mr\u001b[39m\u001b[38;5;124m'\u001b[39m) \u001b[38;5;28;01mas\u001b[39;00m infile, \\\n\u001b[1;32m----> 3\u001b[0m      \u001b[38;5;28;43mopen\u001b[39;49m\u001b[43m(\u001b[49m\u001b[38;5;124;43m'\u001b[39;49m\u001b[38;5;124;43mC:/Users/Graduate/Desktop/Grad MSBA/Advanced Python/Final Project/company_info_final.csv\u001b[39;49m\u001b[38;5;124;43m'\u001b[39;49m\u001b[43m,\u001b[49m\u001b[43m \u001b[49m\u001b[38;5;124;43m'\u001b[39;49m\u001b[38;5;124;43mw\u001b[39;49m\u001b[38;5;124;43m'\u001b[39;49m\u001b[43m,\u001b[49m\u001b[43m \u001b[49m\u001b[43mnewline\u001b[49m\u001b[38;5;241;43m=\u001b[39;49m\u001b[38;5;124;43m'\u001b[39;49m\u001b[38;5;124;43m'\u001b[39;49m\u001b[43m)\u001b[49m \u001b[38;5;28;01mas\u001b[39;00m outfile:\n\u001b[0;32m      4\u001b[0m \n\u001b[0;32m      5\u001b[0m     \u001b[38;5;66;03m# Create a CSV writer and write the header row\u001b[39;00m\n\u001b[0;32m      6\u001b[0m     writer \u001b[38;5;241m=\u001b[39m csv\u001b[38;5;241m.\u001b[39mwriter(outfile)\n\u001b[0;32m      7\u001b[0m     writer\u001b[38;5;241m.\u001b[39mwriterow([\u001b[38;5;124m'\u001b[39m\u001b[38;5;124mCompany\u001b[39m\u001b[38;5;124m'\u001b[39m, \u001b[38;5;124m'\u001b[39m\u001b[38;5;124mNAICS on SoS site\u001b[39m\u001b[38;5;124m'\u001b[39m, \u001b[38;5;124m'\u001b[39m\u001b[38;5;124mPrincipal Address\u001b[39m\u001b[38;5;124m'\u001b[39m, \u001b[38;5;124m'\u001b[39m\u001b[38;5;124mResident Agent\u001b[39m\u001b[38;5;124m'\u001b[39m])\n",
      "\u001b[1;31mPermissionError\u001b[0m: [Errno 13] Permission denied: 'C:/Users/Graduate/Desktop/Grad MSBA/Advanced Python/Final Project/company_info_final.csv'"
     ]
    }
   ],
   "source": [
    "# Open input and output files\n",
    "with open('C:/Users/Graduate/Desktop/Grad MSBA/Advanced Python/Final Project/company_info_final.txt', 'r') as infile, \\\n",
    "     open('C:/Users/Graduate/Desktop/Grad MSBA/Advanced Python/Final Project/company_info_final.csv', 'w', newline='') as outfile:\n",
    "\n",
    "    # Create a CSV writer and write the header row\n",
    "    writer = csv.writer(outfile)\n",
    "    writer.writerow(['Company', 'NAICS on SoS site', 'Principal Address', 'Resident Agent'])\n",
    "\n",
    "    # Loop through the lines in the input file\n",
    "    fields = {}\n",
    "    affiliates = ''\n",
    "    for line in infile:\n",
    "        # Strip whitespace from the line\n",
    "        line = line.strip()\n",
    "\n",
    "        # If the line starts with \"Company:\", start a new record\n",
    "        if line.startswith('Company:'):\n",
    "            # Add the previous record to the output file, if any\n",
    "            if fields:\n",
    "                # Remove non-numeric characters from NAICS code\n",
    "                naics = fields.get('NAICS on SoS site', '')\n",
    "                naics = re.sub(r'\\D', '', naics)\n",
    "                # Remove anything that comes after \" RI \" in the Principal Address field\n",
    "                principal_address = fields.get('Principal Address', '')\n",
    "                principal_address = re.sub(r' RI .*', ' RI', principal_address)\n",
    "                # Replace \", ,\" with \",\" in the Principal Address field\n",
    "                principal_address = principal_address.replace(', ,', ',')\n",
    "                # Get the Resident Agent information\n",
    "                resident_agent = fields.get('Resident Agent', '')\n",
    "                writer.writerow([fields.get('Company', ''), naics, principal_address, resident_agent])\n",
    "\n",
    "            # Start a new dictionary of fields\n",
    "            fields = {}\n",
    "            affiliates = ''\n",
    "\n",
    "        # Split the line into fields based on the delimiter\n",
    "        if ':' in line:\n",
    "            key, value = [s.strip() for s in line.split(':', 1)]\n",
    "            if key == 'NAICS on SoS site':\n",
    "                fields[key] = value.strip()\n",
    "            elif key == 'Principal Address':\n",
    "                next(infile)  # skip the next line\n",
    "                fields[key] = next(infile).strip()\n",
    "            elif key == 'Resident Agent':\n",
    "                fields[key] = next(infile).strip()\n",
    "            else:\n",
    "                fields[key] = value\n",
    "\n",
    "    # Write the last record to the output file\n",
    "    if fields:\n",
    "        # Remove non-numeric characters from NAICS code\n",
    "        naics = fields.get('NAICS on SoS site', '')\n",
    "        naics = re.sub(r'\\D', '', naics)\n",
    "        # Remove anything that comes after \" RI \" in the Principal Address field\n",
    "        principal_address = fields.get('Principal Address', '')\n",
    "        principal_address = re.sub(r' RI .*', ' RI', principal_address)\n",
    "        # Replace \", ,\" with \",\" in the Principal Address field\n",
    "        principal_address = principal_address.replace(', ,', ',')\n",
    "        # Get the Resident Agent information\n",
    "        resident_agent = fields.get('Resident Agent', '')\n",
    "        writer.writerow([fields.get('Company', ''), naics, principal_address, resident_agent])\n",
    "\n",
    "    # Write the CSV file and print a message\n",
    "    print(\"CSV file was generated!\")"
   ]
  }
 ],
 "metadata": {
  "kernelspec": {
   "display_name": "Python 3 (ipykernel)",
   "language": "python",
   "name": "python3"
  },
  "language_info": {
   "codemirror_mode": {
    "name": "ipython",
    "version": 3
   },
   "file_extension": ".py",
   "mimetype": "text/x-python",
   "name": "python",
   "nbconvert_exporter": "python",
   "pygments_lexer": "ipython3",
   "version": "3.9.12"
  }
 },
 "nbformat": 4,
 "nbformat_minor": 2
}
