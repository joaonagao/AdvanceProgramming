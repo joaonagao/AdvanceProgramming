{
 "cells": [
  {
   "cell_type": "markdown",
   "metadata": {},
   "source": [
    "# Company Web Scraping through Google"
   ]
  },
  {
   "cell_type": "markdown",
   "metadata": {},
   "source": [
    "Import all necessary packages for web scraping"
   ]
  },
  {
   "cell_type": "code",
   "execution_count": 1,
   "metadata": {},
   "outputs": [
    {
     "name": "stderr",
     "output_type": "stream",
     "text": [
      "[nltk_data] Downloading package stopwords to\n",
      "[nltk_data]     C:\\Users\\Graduate\\AppData\\Roaming\\nltk_data...\n",
      "[nltk_data]   Package stopwords is already up-to-date!\n"
     ]
    }
   ],
   "source": [
    "import time\n",
    "import csv\n",
    "import os\n",
    "import re\n",
    "import pandas as pd\n",
    "from selenium import webdriver\n",
    "from selenium.webdriver.common.by import By\n",
    "from selenium.webdriver.common.keys import Keys\n",
    "from selenium.webdriver.support.ui import WebDriverWait\n",
    "from selenium.webdriver.support import expected_conditions as EC\n",
    "import nltk\n",
    "nltk.download('stopwords')\n",
    "from nltk.corpus import stopwords"
   ]
  },
  {
   "cell_type": "markdown",
   "metadata": {},
   "source": [
    "Convert .txt file into .csv"
   ]
  },
  {
   "cell_type": "code",
   "execution_count": 3,
   "metadata": {},
   "outputs": [
    {
     "name": "stdout",
     "output_type": "stream",
     "text": [
      "CSV file generated successfully!\n"
     ]
    }
   ],
   "source": [
    "with open(r'C:\\Users\\Graduate\\Desktop\\Grad MSBA\\Advanced Python\\Final Project\\company_info_final.txt', 'r') as infile, \\\n",
    "    open('company_info_final.csv', 'w', newline='') as outfile:\n",
    "    \n",
    "    writer = csv.writer(outfile)\n",
    "\n",
    "    # Write the header row\n",
    "    writer.writerow(['Company', 'NAICS on SoS site', 'Principal Address'])\n",
    "\n",
    "    # Loop through the lines in the input file\n",
    "    fields = {}\n",
    "    for line in infile:\n",
    "        # Strip whitespace from the line\n",
    "        line = line.strip()\n",
    "\n",
    "        # If the line starts with \"Company:\", start a new record\n",
    "        if line.startswith('Company:'):\n",
    "            # Add the previous record to the output file, if any\n",
    "            if fields:\n",
    "                # Remove non-numeric characters from NAICS code\n",
    "                naics = fields.get('NAICS on SoS site', '')\n",
    "                naics = re.sub(r'\\D', '', naics)\n",
    "                # Remove anything that comes after \" RI \" in the Principal Address field\n",
    "                principal_address = fields.get('Principal Address', '')\n",
    "                principal_address = re.sub(r' RI .*', ' RI', principal_address)\n",
    "                # Replace \", ,\" with \",\" in the Principal Address field\n",
    "                principal_address = principal_address.replace(', ,', ',')\n",
    "                writer.writerow([fields.get('Company', ''), naics, principal_address])\n",
    "\n",
    "            # Start a new dictionary of fields\n",
    "            fields = {}\n",
    "\n",
    "        # Split the line into fields based on the delimiter\n",
    "        if ':' in line:\n",
    "            key, value = [s.strip() for s in line.split(':', 1)]\n",
    "            if key == 'NAICS on SoS site':\n",
    "                fields[key] = value.strip()\n",
    "            elif key == 'Principal Address':\n",
    "                next(infile)  # skip the next line\n",
    "                fields[key] = next(infile).strip()\n",
    "            else:\n",
    "                fields[key] = value\n",
    "\n",
    "    # Write the last record to the output file\n",
    "    if fields:\n",
    "        # Remove non-numeric characters from NAICS code\n",
    "        naics = fields.get('NAICS on SoS site', '')\n",
    "        naics = re.sub(r'\\D', '', naics)\n",
    "        # Remove anything that comes after \" RI \" in the Principal Address field\n",
    "        principal_address = fields.get('Principal Address', '')\n",
    "        principal_address = re.sub(r' RI .*', ' RI', principal_address)\n",
    "        # Replace \", ,\" with \",\" in the Principal Address field\n",
    "        principal_address = principal_address.replace(', ,', ',')\n",
    "        writer.writerow([fields.get('Company', ''), naics, principal_address])\n",
    "\n",
    "print('CSV file generated successfully!')"
   ]
  },
  {
   "cell_type": "markdown",
   "metadata": {},
   "source": [
    "Conduct Web Scraping of Company Names"
   ]
  },
  {
   "cell_type": "code",
   "execution_count": null,
   "metadata": {
    "scrolled": true
   },
   "outputs": [],
   "source": [
    "# Load the DataFrame with company and description columns\n",
    "df = pd.read_csv(\"C:/Users/Graduate/Desktop/Grad MSBA/Advanced Python/Final Project/company_info_final.csv\")\n",
    "\n",
    "# Load the NAICS_subcategories file\n",
    "naics_subcategories = pd.read_csv(\"NAICS_subcategories.csv\")\n",
    "\n",
    "# Merge the two DataFrames on the first 3 digits of the NAICS code\n",
    "df = pd.merge(df, naics_subcategories, left_on=df[\"NAICS on SoS site\"].astype(str).str[:3], right_on=naics_subcategories[\"NAICS Code\"].astype(str).str[:3], how=\"left\")\n",
    "\n",
    "# Define an empty dictionary to store the results\n",
    "keyword_dict = {}\n",
    "\n",
    "# Define a set of stopwords\n",
    "stop_words = set(stopwords.words('english'))\n",
    "\n",
    "# Add keyword_count and found_count columns to the DataFrame\n",
    "df[\"keyword_count\"] = 0\n",
    "df[\"found_count\"] = 0\n",
    "\n",
    "# Add a \"Manufacturing\" column to the DataFrame\n",
    "df[\"Manufacturing\"] = False\n",
    "\n",
    "# Start the web driver\n",
    "driver = webdriver.Chrome()\n",
    "\n",
    "# Loop through all rows in the DataFrame\n",
    "for index, row in df.iterrows():\n",
    "    # Check if the NAICS Code is blank\n",
    "    if pd.isnull(row[\"NAICS on SoS site\"]):\n",
    "        continue  # skip to next row\n",
    "    \n",
    "    company = row[\"Company\"].strip()\n",
    "    description = row[\"Description\"]\n",
    "    address = row[\"Principal Address\"]\n",
    "    \n",
    "    company_name = company.replace(\"&\", \"and\")\n",
    "        \n",
    "    # Navigate to Google.com with the search query\n",
    "    driver.get(\"https://www.google.com/search?q=\" + company_name + \" \" + \"manufacturing\")\n",
    "        \n",
    "    # Wait for the search results to load\n",
    "    driver.implicitly_wait(10)\n",
    "        \n",
    "    # Find the first search result link that is not an advertisement\n",
    "    search_results = driver.find_elements('css selector', \"div.tF2Cxc\")\n",
    "    for result in search_results:\n",
    "        try:\n",
    "            search_link = result.find_element('tag name', 'a')\n",
    "            if 'http' in search_link.get_attribute('href') and 'google' not in search_link.get_attribute('href'):\n",
    "                search_link.click()\n",
    "                break\n",
    "        except:\n",
    "            pass\n",
    "        \n",
    "    # Wait for the resulting page to load\n",
    "    driver.implicitly_wait(10)\n",
    "        \n",
    "    # Loop through each keyword for the current company\n",
    "    for word in (description).split():        \n",
    "        if word.lower() not in stop_words:\n",
    "            if word.lower() in description.lower():\n",
    "                keyword_dict.setdefault(word.lower(), []).append(1)\n",
    "                # Increment the found count for the current row\n",
    "                df.at[index, \"found_count\"] += 1\n",
    "            else:\n",
    "                keyword_dict.setdefault(word.lower(), []).append(0)\n",
    "            # Increment the keyword count for the current row\n",
    "            df.at[index, \"keyword_count\"] += 1 \n",
    "         \n",
    "    if word.lower() == 'manufacturing':\n",
    "        df.at[index, \"Manufacturing\"] = True\n",
    "\n",
    "    # Add the found count to the DataFrame\n",
    "    df.at[index, \"found_count\"] = df.at[index, \"found_count\"]\n",
    "    df.at[index, \"Manufacturing\"] = df.at[index, \"Manufacturing\"]\n",
    "        \n",
    "    # Calculate the percentage of keywords found and add to the DataFrame\n",
    "    percentage = df.at[index, \"found_count\"] / df.at[index, \"keyword_count\"] if df.at[index, \"keyword_count\"] > 0 else 0\n",
    "    df.at[index, \"found_percentage\"] = percentage\n",
    "        \n",
    "# Close the web driver\n",
    "driver.quit()"
   ]
  },
  {
   "cell_type": "markdown",
   "metadata": {},
   "source": [
    "Generate Excel file and place it in the \"Web Scrape\" folder"
   ]
  },
  {
   "cell_type": "code",
   "execution_count": 29,
   "metadata": {},
   "outputs": [],
   "source": [
    "# Create the folder if it doesn't exist\n",
    "if not os.path.exists(\"Web Scrape\"):\n",
    "    os.makedirs(\"Web Scrape\")\n",
    "\n",
    "# drop the first column\n",
    "df = df.drop(df.columns[0], axis=1)\n",
    "\n",
    "# Save the updated DataFrame to a new CSV file in the Web Scrape folder\n",
    "df.to_csv(\"Web Scrape/google_web_scrape.csv\", index=False)"
   ]
  }
 ],
 "metadata": {
  "kernelspec": {
   "display_name": "Python 3 (ipykernel)",
   "language": "python",
   "name": "python3"
  },
  "language_info": {
   "codemirror_mode": {
    "name": "ipython",
    "version": 3
   },
   "file_extension": ".py",
   "mimetype": "text/x-python",
   "name": "python",
   "nbconvert_exporter": "python",
   "pygments_lexer": "ipython3",
   "version": "3.9.12"
  }
 },
 "nbformat": 4,
 "nbformat_minor": 2
}
